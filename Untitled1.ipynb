{
 "cells": [
  {
   "cell_type": "markdown",
   "metadata": {},
   "source": [
    "# Import the Necessarry Libraries"
   ]
  },
  {
   "cell_type": "code",
   "execution_count": 1,
   "metadata": {},
   "outputs": [
    {
     "name": "stderr",
     "output_type": "stream",
     "text": [
      "Using TensorFlow backend.\n"
     ]
    }
   ],
   "source": [
    "import numpy as np\n",
    "import pandas as pd\n",
    "import os\n",
    "import matplotlib.pyplot as plt\n",
    "import tensorflow as tf\n",
    "from matplotlib.image import imread\n",
    "import keras\n",
    "from keras.models import Sequential\n",
    "from keras.layers import Dense, Conv2D, MaxPooling2D, Flatten, Dropout\n",
    "from sklearn.model_selection import train_test_split\n",
    "from sklearn.preprocessing import LabelBinarizer\n",
    "from keras.preprocessing import image\n",
    "from sklearn.metrics import classification_report\n",
    "from sklearn.metrics import accuracy_score\n",
    "from PIL import Image"
   ]
  },
  {
   "cell_type": "markdown",
   "metadata": {},
   "source": [
    "# Sign Launguage Training Data"
   ]
  },
  {
   "cell_type": "code",
   "execution_count": 155,
   "metadata": {},
   "outputs": [],
   "source": [
    "train_data = pd.read_csv(\"sign_mnist_train.csv\")"
   ]
  },
  {
   "cell_type": "markdown",
   "metadata": {},
   "source": [
    "# Current State of the Dataset\n",
    "-labels are 0-24 to represent each letter in the alphabet excluding 'J' and 'Z' which are '9' and '25' respectively                \n",
    "-images are represented by 784 pixels ranging from 0-255\n"
   ]
  },
  {
   "cell_type": "code",
   "execution_count": 3,
   "metadata": {},
   "outputs": [
    {
     "data": {
      "text/html": [
       "<div>\n",
       "<style scoped>\n",
       "    .dataframe tbody tr th:only-of-type {\n",
       "        vertical-align: middle;\n",
       "    }\n",
       "\n",
       "    .dataframe tbody tr th {\n",
       "        vertical-align: top;\n",
       "    }\n",
       "\n",
       "    .dataframe thead th {\n",
       "        text-align: right;\n",
       "    }\n",
       "</style>\n",
       "<table border=\"1\" class=\"dataframe\">\n",
       "  <thead>\n",
       "    <tr style=\"text-align: right;\">\n",
       "      <th></th>\n",
       "      <th>label</th>\n",
       "      <th>pixel1</th>\n",
       "      <th>pixel2</th>\n",
       "      <th>pixel3</th>\n",
       "      <th>pixel4</th>\n",
       "      <th>pixel5</th>\n",
       "      <th>pixel6</th>\n",
       "      <th>pixel7</th>\n",
       "      <th>pixel8</th>\n",
       "      <th>pixel9</th>\n",
       "      <th>...</th>\n",
       "      <th>pixel775</th>\n",
       "      <th>pixel776</th>\n",
       "      <th>pixel777</th>\n",
       "      <th>pixel778</th>\n",
       "      <th>pixel779</th>\n",
       "      <th>pixel780</th>\n",
       "      <th>pixel781</th>\n",
       "      <th>pixel782</th>\n",
       "      <th>pixel783</th>\n",
       "      <th>pixel784</th>\n",
       "    </tr>\n",
       "  </thead>\n",
       "  <tbody>\n",
       "    <tr>\n",
       "      <td>0</td>\n",
       "      <td>3</td>\n",
       "      <td>107</td>\n",
       "      <td>118</td>\n",
       "      <td>127</td>\n",
       "      <td>134</td>\n",
       "      <td>139</td>\n",
       "      <td>143</td>\n",
       "      <td>146</td>\n",
       "      <td>150</td>\n",
       "      <td>153</td>\n",
       "      <td>...</td>\n",
       "      <td>207</td>\n",
       "      <td>207</td>\n",
       "      <td>207</td>\n",
       "      <td>207</td>\n",
       "      <td>206</td>\n",
       "      <td>206</td>\n",
       "      <td>206</td>\n",
       "      <td>204</td>\n",
       "      <td>203</td>\n",
       "      <td>202</td>\n",
       "    </tr>\n",
       "    <tr>\n",
       "      <td>1</td>\n",
       "      <td>6</td>\n",
       "      <td>155</td>\n",
       "      <td>157</td>\n",
       "      <td>156</td>\n",
       "      <td>156</td>\n",
       "      <td>156</td>\n",
       "      <td>157</td>\n",
       "      <td>156</td>\n",
       "      <td>158</td>\n",
       "      <td>158</td>\n",
       "      <td>...</td>\n",
       "      <td>69</td>\n",
       "      <td>149</td>\n",
       "      <td>128</td>\n",
       "      <td>87</td>\n",
       "      <td>94</td>\n",
       "      <td>163</td>\n",
       "      <td>175</td>\n",
       "      <td>103</td>\n",
       "      <td>135</td>\n",
       "      <td>149</td>\n",
       "    </tr>\n",
       "    <tr>\n",
       "      <td>2</td>\n",
       "      <td>2</td>\n",
       "      <td>187</td>\n",
       "      <td>188</td>\n",
       "      <td>188</td>\n",
       "      <td>187</td>\n",
       "      <td>187</td>\n",
       "      <td>186</td>\n",
       "      <td>187</td>\n",
       "      <td>188</td>\n",
       "      <td>187</td>\n",
       "      <td>...</td>\n",
       "      <td>202</td>\n",
       "      <td>201</td>\n",
       "      <td>200</td>\n",
       "      <td>199</td>\n",
       "      <td>198</td>\n",
       "      <td>199</td>\n",
       "      <td>198</td>\n",
       "      <td>195</td>\n",
       "      <td>194</td>\n",
       "      <td>195</td>\n",
       "    </tr>\n",
       "    <tr>\n",
       "      <td>3</td>\n",
       "      <td>2</td>\n",
       "      <td>211</td>\n",
       "      <td>211</td>\n",
       "      <td>212</td>\n",
       "      <td>212</td>\n",
       "      <td>211</td>\n",
       "      <td>210</td>\n",
       "      <td>211</td>\n",
       "      <td>210</td>\n",
       "      <td>210</td>\n",
       "      <td>...</td>\n",
       "      <td>235</td>\n",
       "      <td>234</td>\n",
       "      <td>233</td>\n",
       "      <td>231</td>\n",
       "      <td>230</td>\n",
       "      <td>226</td>\n",
       "      <td>225</td>\n",
       "      <td>222</td>\n",
       "      <td>229</td>\n",
       "      <td>163</td>\n",
       "    </tr>\n",
       "    <tr>\n",
       "      <td>4</td>\n",
       "      <td>13</td>\n",
       "      <td>164</td>\n",
       "      <td>167</td>\n",
       "      <td>170</td>\n",
       "      <td>172</td>\n",
       "      <td>176</td>\n",
       "      <td>179</td>\n",
       "      <td>180</td>\n",
       "      <td>184</td>\n",
       "      <td>185</td>\n",
       "      <td>...</td>\n",
       "      <td>92</td>\n",
       "      <td>105</td>\n",
       "      <td>105</td>\n",
       "      <td>108</td>\n",
       "      <td>133</td>\n",
       "      <td>163</td>\n",
       "      <td>157</td>\n",
       "      <td>163</td>\n",
       "      <td>164</td>\n",
       "      <td>179</td>\n",
       "    </tr>\n",
       "  </tbody>\n",
       "</table>\n",
       "<p>5 rows × 785 columns</p>\n",
       "</div>"
      ],
      "text/plain": [
       "   label  pixel1  pixel2  pixel3  pixel4  pixel5  pixel6  pixel7  pixel8  \\\n",
       "0      3     107     118     127     134     139     143     146     150   \n",
       "1      6     155     157     156     156     156     157     156     158   \n",
       "2      2     187     188     188     187     187     186     187     188   \n",
       "3      2     211     211     212     212     211     210     211     210   \n",
       "4     13     164     167     170     172     176     179     180     184   \n",
       "\n",
       "   pixel9  ...  pixel775  pixel776  pixel777  pixel778  pixel779  pixel780  \\\n",
       "0     153  ...       207       207       207       207       206       206   \n",
       "1     158  ...        69       149       128        87        94       163   \n",
       "2     187  ...       202       201       200       199       198       199   \n",
       "3     210  ...       235       234       233       231       230       226   \n",
       "4     185  ...        92       105       105       108       133       163   \n",
       "\n",
       "   pixel781  pixel782  pixel783  pixel784  \n",
       "0       206       204       203       202  \n",
       "1       175       103       135       149  \n",
       "2       198       195       194       195  \n",
       "3       225       222       229       163  \n",
       "4       157       163       164       179  \n",
       "\n",
       "[5 rows x 785 columns]"
      ]
     },
     "execution_count": 3,
     "metadata": {},
     "output_type": "execute_result"
    }
   ],
   "source": [
    "train_data.head()"
   ]
  },
  {
   "cell_type": "code",
   "execution_count": 4,
   "metadata": {},
   "outputs": [
    {
     "data": {
      "text/plain": [
       "(27455, 785)"
      ]
     },
     "execution_count": 4,
     "metadata": {},
     "output_type": "execute_result"
    }
   ],
   "source": [
    "train_data.shape"
   ]
  },
  {
   "cell_type": "code",
   "execution_count": 5,
   "metadata": {},
   "outputs": [
    {
     "data": {
      "text/plain": [
       "array([ 0,  1,  2,  3,  4,  5,  6,  7,  8, 10, 11, 12, 13, 14, 15, 16, 17,\n",
       "       18, 19, 20, 21, 22, 23, 24])"
      ]
     },
     "execution_count": 5,
     "metadata": {},
     "output_type": "execute_result"
    }
   ],
   "source": [
    "labels = train_data.label.unique()\n",
    "labels.sort()\n",
    "labels"
   ]
  },
  {
   "cell_type": "markdown",
   "metadata": {},
   "source": [
    "## adjust labels so we dont skip class 9 which was originally 'J'. This would give us issues later when attempting to validate later"
   ]
  },
  {
   "cell_type": "code",
   "execution_count": 6,
   "metadata": {},
   "outputs": [
    {
     "data": {
      "text/plain": [
       "array([ 0,  1,  2,  3,  4,  5,  6,  7,  8,  9, 10, 11, 12, 13, 14, 15, 16,\n",
       "       17, 18, 19, 20, 21, 22, 23])"
      ]
     },
     "execution_count": 6,
     "metadata": {},
     "output_type": "execute_result"
    }
   ],
   "source": [
    "for i in range(0, 27455):\n",
    "    if train_data['label'][i] >= 10:\n",
    "        train_data['label'][i] -= 1\n",
    "labels = train_data.label.unique()\n",
    "labels.sort()\n",
    "labels"
   ]
  },
  {
   "cell_type": "markdown",
   "metadata": {},
   "source": [
    "### Seperate the labels from the data for validation later"
   ]
  },
  {
   "cell_type": "code",
   "execution_count": 7,
   "metadata": {},
   "outputs": [],
   "source": [
    "labels = train_data['label'].values"
   ]
  },
  {
   "cell_type": "code",
   "execution_count": 8,
   "metadata": {},
   "outputs": [],
   "source": [
    "train_data.drop(\"label\" , axis=1 , inplace=True) #remove 'labels' columns"
   ]
  },
  {
   "cell_type": "markdown",
   "metadata": {},
   "source": [
    "## Turn labels into a list of 24 '0's with a '1' in the place of the letter respective to its position in the alphabet\n",
    "#### example: An 'A' would be [1,0,0, ..., 0, 0, 0], B would be [0,1,0, ..., 0,0,0], etc..."
   ]
  },
  {
   "cell_type": "code",
   "execution_count": 9,
   "metadata": {},
   "outputs": [],
   "source": [
    "label_binrizer = LabelBinarizer()\n",
    "labels = label_binrizer.fit_transform(labels)"
   ]
  },
  {
   "cell_type": "code",
   "execution_count": 10,
   "metadata": {},
   "outputs": [
    {
     "data": {
      "text/plain": [
       "array([[0, 0, 0, ..., 0, 0, 0],\n",
       "       [0, 0, 0, ..., 0, 0, 0],\n",
       "       [0, 0, 1, ..., 0, 0, 0],\n",
       "       ...,\n",
       "       [0, 0, 0, ..., 0, 0, 0],\n",
       "       [0, 0, 0, ..., 0, 0, 0],\n",
       "       [0, 0, 0, ..., 0, 1, 0]])"
      ]
     },
     "execution_count": 10,
     "metadata": {},
     "output_type": "execute_result"
    }
   ],
   "source": [
    "labels"
   ]
  },
  {
   "cell_type": "markdown",
   "metadata": {},
   "source": [
    "## We can now take all of the remaining values and begin constructing the images"
   ]
  },
  {
   "cell_type": "code",
   "execution_count": 11,
   "metadata": {},
   "outputs": [
    {
     "data": {
      "text/plain": [
       "array([[107, 118, 127, ..., 204, 203, 202],\n",
       "       [155, 157, 156, ..., 103, 135, 149],\n",
       "       [187, 188, 188, ..., 195, 194, 195],\n",
       "       ...,\n",
       "       [174, 174, 174, ..., 202, 200, 200],\n",
       "       [177, 181, 184, ...,  64,  87,  93],\n",
       "       [179, 180, 180, ..., 205, 209, 215]])"
      ]
     },
     "execution_count": 11,
     "metadata": {},
     "output_type": "execute_result"
    }
   ],
   "source": [
    "image_data = train_data.values\n",
    "image_data"
   ]
  },
  {
   "cell_type": "code",
   "execution_count": 12,
   "metadata": {},
   "outputs": [
    {
     "data": {
      "text/plain": [
       "(784,)"
      ]
     },
     "execution_count": 12,
     "metadata": {},
     "output_type": "execute_result"
    }
   ],
   "source": [
    "image_data[0].shape"
   ]
  },
  {
   "cell_type": "code",
   "execution_count": 13,
   "metadata": {},
   "outputs": [
    {
     "data": {
      "text/plain": [
       "<matplotlib.image.AxesImage at 0x11cc6c690>"
      ]
     },
     "execution_count": 13,
     "metadata": {},
     "output_type": "execute_result"
    },
    {
     "data": {
      "image/png": "[encoded data removed]",
      "text/plain": [
       "<Figure size 432x288 with 1 Axes>"
      ]
     },
     "metadata": {
      "needs_background": "light"
     },
     "output_type": "display_data"
    }
   ],
   "source": [
    "plt.imshow(image_data[0].reshape(28,28))"
   ]
  },
  {
   "cell_type": "markdown",
   "metadata": {},
   "source": [
    "### We can now begin preproccessing the images to get them ready for the training"
   ]
  },
  {
   "cell_type": "code",
   "execution_count": 14,
   "metadata": {},
   "outputs": [],
   "source": [
    "images = np.array([image_data[i].reshape(28,28) for i in range(image_data.shape[0])])"
   ]
  },
  {
   "cell_type": "code",
   "execution_count": 15,
   "metadata": {},
   "outputs": [],
   "source": [
    "flatten_images = np.array([i.flatten() for i in images])"
   ]
  },
  {
   "cell_type": "markdown",
   "metadata": {},
   "source": [
    "### We now take the test data and split it into 70% training data and 30% test data. Then it will then train itself and then test itself based on what the machine knows already to become \"smarter\""
   ]
  },
  {
   "cell_type": "code",
   "execution_count": 16,
   "metadata": {},
   "outputs": [],
   "source": [
    "x_train, x_test, y_train, y_test = train_test_split(images, labels, test_size = 0.3, random_state = 101)"
   ]
  },
  {
   "cell_type": "markdown",
   "metadata": {},
   "source": [
    "### Normalizing the data"
   ]
  },
  {
   "cell_type": "code",
   "execution_count": 17,
   "metadata": {},
   "outputs": [],
   "source": [
    "x_train = x_train / 255\n",
    "x_test = x_test / 255"
   ]
  },
  {
   "cell_type": "markdown",
   "metadata": {},
   "source": [
    "#### Parameters that will go into the testing fuction. These are put into variables to allow for quick changes to test the effects these might have on accuracy. This is esspecially true for 'epochs' which is how many generations the machine will go through in testing. the more generations usually the higher accuracy but comes with some issues as well."
   ]
  },
  {
   "cell_type": "code",
   "execution_count": 18,
   "metadata": {},
   "outputs": [],
   "source": [
    "batch_size = 128\n",
    "num_classes = 24\n",
    "epochs = 50"
   ]
  },
  {
   "cell_type": "code",
   "execution_count": 19,
   "metadata": {},
   "outputs": [],
   "source": [
    "x_train = x_train.reshape(x_train.shape[0], 28, 28, 1)"
   ]
  },
  {
   "cell_type": "code",
   "execution_count": 20,
   "metadata": {},
   "outputs": [],
   "source": [
    "x_test = x_test.reshape(x_test.shape[0], 28, 28, 1)"
   ]
  },
  {
   "cell_type": "code",
   "execution_count": 21,
   "metadata": {},
   "outputs": [
    {
     "data": {
      "text/plain": [
       "<matplotlib.image.AxesImage at 0x11ca7c510>"
      ]
     },
     "execution_count": 21,
     "metadata": {},
     "output_type": "execute_result"
    },
    {
     "data": {
      "image/png": "[encoded data removed]",
      "text/plain": [
       "<Figure size 432x288 with 1 Axes>"
      ]
     },
     "metadata": {
      "needs_background": "light"
     },
     "output_type": "display_data"
    }
   ],
   "source": [
    "plt.imshow(x_train[0].reshape(28,28))"
   ]
  },
  {
   "cell_type": "markdown",
   "metadata": {},
   "source": [
    "### Below is the actual function that will essentially be making our machine into a model that we can further test against after the fact. Each time an image is tested the image is broken down and \"blurred\" more so pixels become more distinguishable. This allows the model to make generalizations about each image to make the determination about what it is seeing. "
   ]
  },
  {
   "cell_type": "code",
   "execution_count": 22,
   "metadata": {},
   "outputs": [
    {
     "name": "stdout",
     "output_type": "stream",
     "text": [
      "WARNING:tensorflow:From /Users/mark/opt/anaconda3/lib/python3.7/site-packages/keras/backend/tensorflow_backend.py:74: The name tf.get_default_graph is deprecated. Please use tf.compat.v1.get_default_graph instead.\n",
      "\n",
      "WARNING:tensorflow:From /Users/mark/opt/anaconda3/lib/python3.7/site-packages/keras/backend/tensorflow_backend.py:517: The name tf.placeholder is deprecated. Please use tf.compat.v1.placeholder instead.\n",
      "\n",
      "WARNING:tensorflow:From /Users/mark/opt/anaconda3/lib/python3.7/site-packages/keras/backend/tensorflow_backend.py:4138: The name tf.random_uniform is deprecated. Please use tf.random.uniform instead.\n",
      "\n",
      "WARNING:tensorflow:From /Users/mark/opt/anaconda3/lib/python3.7/site-packages/keras/backend/tensorflow_backend.py:3976: The name tf.nn.max_pool is deprecated. Please use tf.nn.max_pool2d instead.\n",
      "\n",
      "WARNING:tensorflow:From /Users/mark/opt/anaconda3/lib/python3.7/site-packages/keras/backend/tensorflow_backend.py:133: The name tf.placeholder_with_default is deprecated. Please use tf.compat.v1.placeholder_with_default instead.\n",
      "\n",
      "WARNING:tensorflow:From /Users/mark/opt/anaconda3/lib/python3.7/site-packages/keras/backend/tensorflow_backend.py:3445: calling dropout (from tensorflow.python.ops.nn_ops) with keep_prob is deprecated and will be removed in a future version.\n",
      "Instructions for updating:\n",
      "Please use `rate` instead of `keep_prob`. Rate should be set to `rate = 1 - keep_prob`.\n"
     ]
    }
   ],
   "source": [
    "model = Sequential()\n",
    "model.add(Conv2D(64, kernel_size=(3,3), activation = 'relu', input_shape=(28, 28 ,1) ))\n",
    "model.add(MaxPooling2D(pool_size = (2, 2)))\n",
    "\n",
    "model.add(Conv2D(64, kernel_size = (3, 3), activation = 'relu'))\n",
    "model.add(MaxPooling2D(pool_size = (2, 2)))\n",
    "\n",
    "model.add(Conv2D(64, kernel_size = (3, 3), activation = 'relu'))\n",
    "model.add(MaxPooling2D(pool_size = (2, 2)))\n",
    "\n",
    "model.add(Flatten())\n",
    "model.add(Dense(128, activation = 'relu'))\n",
    "model.add(Dropout(0.20))\n",
    "\n",
    "\n",
    "model.add(Dense(num_classes, activation = 'softmax'))"
   ]
  },
  {
   "cell_type": "code",
   "execution_count": 23,
   "metadata": {},
   "outputs": [],
   "source": [
    "# model = Sequential([\n",
    "    #Conv2D(16, 3, padding='same', activation='relu', input_shape=(IMG_HEIGHT, IMG_WIDTH ,3)),\n",
    "    #MaxPooling2D(),\n",
    "    #Conv2D(32, 3, padding='same', activation='relu'),\n",
    "    #MaxPooling2D(),\n",
    "    #Conv2D(64, 3, padding='same', activation='relu'),\n",
    "    #MaxPooling2D(),\n",
    "    #Flatten(),\n",
    "    #Dense(512, activation='relu'),\n",
    "    #Dense(1)\n"
   ]
  },
  {
   "cell_type": "markdown",
   "metadata": {},
   "source": [
    "### compile the function and implement our loss that will better handle data with several classes along with our optimizer and  also make sure we keep track of our accuracy."
   ]
  },
  {
   "cell_type": "code",
   "execution_count": 24,
   "metadata": {},
   "outputs": [
    {
     "name": "stdout",
     "output_type": "stream",
     "text": [
      "WARNING:tensorflow:From /Users/mark/opt/anaconda3/lib/python3.7/site-packages/keras/optimizers.py:790: The name tf.train.Optimizer is deprecated. Please use tf.compat.v1.train.Optimizer instead.\n",
      "\n",
      "WARNING:tensorflow:From /Users/mark/opt/anaconda3/lib/python3.7/site-packages/keras/backend/tensorflow_backend.py:3295: The name tf.log is deprecated. Please use tf.math.log instead.\n",
      "\n"
     ]
    }
   ],
   "source": [
    "model.compile(loss = keras.losses.categorical_crossentropy, optimizer=keras.optimizers.Adam(),\n",
    "              metrics=['accuracy'])"
   ]
  },
  {
   "cell_type": "code",
   "execution_count": 25,
   "metadata": {},
   "outputs": [
    {
     "name": "stdout",
     "output_type": "stream",
     "text": [
      "WARNING:tensorflow:From /Users/mark/opt/anaconda3/lib/python3.7/site-packages/tensorflow_core/python/ops/math_grad.py:1424: where (from tensorflow.python.ops.array_ops) is deprecated and will be removed in a future version.\n",
      "Instructions for updating:\n",
      "Use tf.where in 2.0, which has the same broadcast rule as np.where\n",
      "WARNING:tensorflow:From /Users/mark/opt/anaconda3/lib/python3.7/site-packages/keras/backend/tensorflow_backend.py:986: The name tf.assign_add is deprecated. Please use tf.compat.v1.assign_add instead.\n",
      "\n",
      "WARNING:tensorflow:From /Users/mark/opt/anaconda3/lib/python3.7/site-packages/keras/backend/tensorflow_backend.py:973: The name tf.assign is deprecated. Please use tf.compat.v1.assign instead.\n",
      "\n",
      "WARNING:tensorflow:From /Users/mark/opt/anaconda3/lib/python3.7/site-packages/keras/backend/tensorflow_backend.py:2741: The name tf.Session is deprecated. Please use tf.compat.v1.Session instead.\n",
      "\n",
      "Train on 19218 samples, validate on 8237 samples\n",
      "Epoch 1/50\n",
      "WARNING:tensorflow:From /Users/mark/opt/anaconda3/lib/python3.7/site-packages/keras/backend/tensorflow_backend.py:174: The name tf.get_default_session is deprecated. Please use tf.compat.v1.get_default_session instead.\n",
      "\n",
      "WARNING:tensorflow:From /Users/mark/opt/anaconda3/lib/python3.7/site-packages/keras/backend/tensorflow_backend.py:181: The name tf.ConfigProto is deprecated. Please use tf.compat.v1.ConfigProto instead.\n",
      "\n",
      "WARNING:tensorflow:From /Users/mark/opt/anaconda3/lib/python3.7/site-packages/keras/backend/tensorflow_backend.py:190: The name tf.global_variables is deprecated. Please use tf.compat.v1.global_variables instead.\n",
      "\n",
      "WARNING:tensorflow:From /Users/mark/opt/anaconda3/lib/python3.7/site-packages/keras/backend/tensorflow_backend.py:199: The name tf.is_variable_initialized is deprecated. Please use tf.compat.v1.is_variable_initialized instead.\n",
      "\n",
      "WARNING:tensorflow:From /Users/mark/opt/anaconda3/lib/python3.7/site-packages/keras/backend/tensorflow_backend.py:206: The name tf.variables_initializer is deprecated. Please use tf.compat.v1.variables_initializer instead.\n",
      "\n",
      "19218/19218 [==============================] - 19s 964us/step - loss: 2.6160 - acc: 0.1945 - val_loss: 1.6544 - val_acc: 0.5056\n",
      "Epoch 2/50\n",
      "19218/19218 [==============================] - 18s 922us/step - loss: 1.3301 - acc: 0.5608 - val_loss: 0.9135 - val_acc: 0.7147\n",
      "Epoch 3/50\n",
      "19218/19218 [==============================] - 18s 954us/step - loss: 0.8257 - acc: 0.7197 - val_loss: 0.5838 - val_acc: 0.8122\n",
      "Epoch 4/50\n",
      "19218/19218 [==============================] - 19s 989us/step - loss: 0.5704 - acc: 0.8088 - val_loss: 0.3830 - val_acc: 0.8892\n",
      "Epoch 5/50\n",
      "19218/19218 [==============================] - 18s 954us/step - loss: 0.3956 - acc: 0.8673 - val_loss: 0.2740 - val_acc: 0.9188\n",
      "Epoch 6/50\n",
      "19218/19218 [==============================] - 18s 920us/step - loss: 0.2839 - acc: 0.9069 - val_loss: 0.1951 - val_acc: 0.9414\n",
      "Epoch 7/50\n",
      "19218/19218 [==============================] - 18s 918us/step - loss: 0.2040 - acc: 0.9339 - val_loss: 0.1167 - val_acc: 0.9710\n",
      "Epoch 8/50\n",
      "19218/19218 [==============================] - 18s 914us/step - loss: 0.1514 - acc: 0.9517 - val_loss: 0.0786 - val_acc: 0.9809\n",
      "Epoch 9/50\n",
      "19218/19218 [==============================] - 17s 908us/step - loss: 0.1086 - acc: 0.9675 - val_loss: 0.0565 - val_acc: 0.9890\n",
      "Epoch 10/50\n",
      "19218/19218 [==============================] - 18s 922us/step - loss: 0.0823 - acc: 0.9748 - val_loss: 0.0461 - val_acc: 0.9870\n",
      "Epoch 11/50\n",
      "19218/19218 [==============================] - 18s 919us/step - loss: 0.0701 - acc: 0.9791 - val_loss: 0.0430 - val_acc: 0.9891\n",
      "Epoch 12/50\n",
      "19218/19218 [==============================] - 18s 922us/step - loss: 0.0550 - acc: 0.9847 - val_loss: 0.0256 - val_acc: 0.9965\n",
      "Epoch 13/50\n",
      "19218/19218 [==============================] - 18s 911us/step - loss: 0.0469 - acc: 0.9872 - val_loss: 0.0135 - val_acc: 0.9992\n",
      "Epoch 14/50\n",
      "19218/19218 [==============================] - 18s 917us/step - loss: 0.0370 - acc: 0.9901 - val_loss: 0.0116 - val_acc: 0.9984\n",
      "Epoch 15/50\n",
      "19218/19218 [==============================] - 18s 917us/step - loss: 0.0341 - acc: 0.9916 - val_loss: 0.0147 - val_acc: 0.9988\n",
      "Epoch 16/50\n",
      "19218/19218 [==============================] - 18s 915us/step - loss: 0.0297 - acc: 0.9914 - val_loss: 0.0069 - val_acc: 0.9992\n",
      "Epoch 17/50\n",
      "19218/19218 [==============================] - 18s 927us/step - loss: 0.0232 - acc: 0.9933 - val_loss: 0.0053 - val_acc: 0.9995\n",
      "Epoch 18/50\n",
      "19218/19218 [==============================] - 18s 921us/step - loss: 0.0195 - acc: 0.9951 - val_loss: 0.0058 - val_acc: 0.9996\n",
      "Epoch 19/50\n",
      "19218/19218 [==============================] - 18s 922us/step - loss: 0.0173 - acc: 0.9962 - val_loss: 0.0051 - val_acc: 0.9995\n",
      "Epoch 20/50\n",
      "19218/19218 [==============================] - 18s 918us/step - loss: 0.0186 - acc: 0.9947 - val_loss: 0.0064 - val_acc: 0.9987\n",
      "Epoch 21/50\n",
      "19218/19218 [==============================] - 18s 919us/step - loss: 0.0188 - acc: 0.9948 - val_loss: 0.0073 - val_acc: 0.9983\n",
      "Epoch 22/50\n",
      "19218/19218 [==============================] - 18s 916us/step - loss: 0.0171 - acc: 0.9953 - val_loss: 0.0075 - val_acc: 0.9984\n",
      "Epoch 23/50\n",
      "19218/19218 [==============================] - 18s 923us/step - loss: 0.0138 - acc: 0.9964 - val_loss: 0.0022 - val_acc: 1.0000\n",
      "Epoch 24/50\n",
      "19218/19218 [==============================] - 18s 932us/step - loss: 0.0131 - acc: 0.9960 - val_loss: 0.0060 - val_acc: 0.9982\n",
      "Epoch 25/50\n",
      "19218/19218 [==============================] - 18s 923us/step - loss: 0.0161 - acc: 0.9953 - val_loss: 0.0026 - val_acc: 0.9996\n",
      "Epoch 26/50\n",
      "19218/19218 [==============================] - 18s 924us/step - loss: 0.0114 - acc: 0.9972 - val_loss: 0.0015 - val_acc: 0.9999\n",
      "Epoch 27/50\n",
      "19218/19218 [==============================] - 18s 922us/step - loss: 0.0093 - acc: 0.9977 - val_loss: 0.0015 - val_acc: 0.9999\n",
      "Epoch 28/50\n",
      "19218/19218 [==============================] - 18s 922us/step - loss: 0.0141 - acc: 0.9957 - val_loss: 0.0030 - val_acc: 0.9996\n",
      "Epoch 29/50\n",
      "19218/19218 [==============================] - 18s 922us/step - loss: 0.0241 - acc: 0.9927 - val_loss: 9.7505e-04 - val_acc: 1.0000\n",
      "Epoch 30/50\n",
      "19218/19218 [==============================] - 18s 927us/step - loss: 0.0073 - acc: 0.9982 - val_loss: 0.0017 - val_acc: 1.0000\n",
      "Epoch 31/50\n",
      "19218/19218 [==============================] - 18s 930us/step - loss: 0.0071 - acc: 0.9982 - val_loss: 7.1629e-04 - val_acc: 0.9999\n",
      "Epoch 32/50\n",
      "19218/19218 [==============================] - 18s 927us/step - loss: 0.0100 - acc: 0.9973 - val_loss: 9.3336e-04 - val_acc: 1.0000\n",
      "Epoch 33/50\n",
      "19218/19218 [==============================] - 18s 922us/step - loss: 0.0034 - acc: 0.9993 - val_loss: 6.4825e-04 - val_acc: 1.0000\n",
      "Epoch 34/50\n",
      "19218/19218 [==============================] - 18s 923us/step - loss: 0.0054 - acc: 0.9984 - val_loss: 0.0032 - val_acc: 0.9994\n",
      "Epoch 35/50\n",
      "19218/19218 [==============================] - 18s 929us/step - loss: 0.0158 - acc: 0.9951 - val_loss: 0.0013 - val_acc: 0.9999\n",
      "Epoch 36/50\n",
      "19218/19218 [==============================] - 18s 924us/step - loss: 0.0048 - acc: 0.9985 - val_loss: 0.0028 - val_acc: 0.9996\n",
      "Epoch 37/50\n",
      "19218/19218 [==============================] - 18s 928us/step - loss: 0.0096 - acc: 0.9973 - val_loss: 7.2538e-04 - val_acc: 0.9999\n",
      "Epoch 38/50\n",
      "19218/19218 [==============================] - 18s 926us/step - loss: 0.0049 - acc: 0.9988 - val_loss: 9.1595e-04 - val_acc: 0.9999\n",
      "Epoch 39/50\n",
      "19218/19218 [==============================] - 18s 923us/step - loss: 0.0047 - acc: 0.9988 - val_loss: 8.9510e-04 - val_acc: 1.0000\n",
      "Epoch 40/50\n",
      "19218/19218 [==============================] - 18s 923us/step - loss: 0.0119 - acc: 0.9958 - val_loss: 0.0036 - val_acc: 0.9992\n",
      "Epoch 41/50\n",
      "19218/19218 [==============================] - 18s 926us/step - loss: 0.0190 - acc: 0.9938 - val_loss: 0.0016 - val_acc: 0.9999\n",
      "Epoch 42/50\n",
      "19218/19218 [==============================] - 18s 943us/step - loss: 0.0031 - acc: 0.9994 - val_loss: 1.8200e-04 - val_acc: 1.0000\n",
      "Epoch 43/50\n",
      "19218/19218 [==============================] - 18s 919us/step - loss: 0.0025 - acc: 0.9995 - val_loss: 8.6553e-04 - val_acc: 0.9999\n",
      "Epoch 44/50\n",
      "19218/19218 [==============================] - 18s 936us/step - loss: 0.0030 - acc: 0.9990 - val_loss: 1.3798e-04 - val_acc: 1.0000\n",
      "Epoch 45/50\n",
      "19218/19218 [==============================] - 18s 928us/step - loss: 0.0060 - acc: 0.9979 - val_loss: 0.0011 - val_acc: 1.0000\n",
      "Epoch 46/50\n",
      "19218/19218 [==============================] - 18s 926us/step - loss: 0.0052 - acc: 0.9984 - val_loss: 9.2120e-04 - val_acc: 0.9999\n",
      "Epoch 47/50\n",
      "19218/19218 [==============================] - 18s 922us/step - loss: 0.0097 - acc: 0.9969 - val_loss: 6.7115e-04 - val_acc: 0.9999\n",
      "Epoch 48/50\n",
      "19218/19218 [==============================] - 18s 924us/step - loss: 0.0079 - acc: 0.9975 - val_loss: 0.0013 - val_acc: 0.9996\n",
      "Epoch 49/50\n",
      "19218/19218 [==============================] - 18s 930us/step - loss: 0.0081 - acc: 0.9973 - val_loss: 0.0015 - val_acc: 0.9999\n",
      "Epoch 50/50\n",
      "19218/19218 [==============================] - 18s 924us/step - loss: 0.0090 - acc: 0.9973 - val_loss: 4.7426e-04 - val_acc: 1.0000\n"
     ]
    }
   ],
   "source": [
    "history = model.fit(x_train, y_train, validation_data = (x_test, y_test), epochs=epochs, batch_size=batch_size)"
   ]
  },
  {
   "cell_type": "markdown",
   "metadata": {},
   "source": [
    "## Print out a chart of the accuracy\n",
    "### as you can see the training starts at about 0 and testing starts at around .5 and both quickly approach 90%"
   ]
  },
  {
   "cell_type": "code",
   "execution_count": 26,
   "metadata": {},
   "outputs": [
    {
     "data": {
      "image/png": "[encoded data removed]",
      "text/plain": [
       "<Figure size 432x288 with 1 Axes>"
      ]
     },
     "metadata": {
      "needs_background": "light"
     },
     "output_type": "display_data"
    }
   ],
   "source": [
    "plt.plot(history.history['acc'])\n",
    "plt.plot(history.history['val_acc'])\n",
    "plt.title(\"Accuracy\")\n",
    "plt.xlabel('epoch')\n",
    "plt.ylabel('accuracy')\n",
    "plt.legend(['train','test'])\n",
    "\n",
    "plt.show()"
   ]
  },
  {
   "cell_type": "markdown",
   "metadata": {},
   "source": [
    "### summary data of the testing and how many paramters we are testing against through each convolution"
   ]
  },
  {
   "cell_type": "code",
   "execution_count": 27,
   "metadata": {},
   "outputs": [
    {
     "name": "stdout",
     "output_type": "stream",
     "text": [
      "_________________________________________________________________\n",
      "Layer (type)                 Output Shape              Param #   \n",
      "=================================================================\n",
      "conv2d_1 (Conv2D)            (None, 26, 26, 64)        640       \n",
      "_________________________________________________________________\n",
      "max_pooling2d_1 (MaxPooling2 (None, 13, 13, 64)        0         \n",
      "_________________________________________________________________\n",
      "conv2d_2 (Conv2D)            (None, 11, 11, 64)        36928     \n",
      "_________________________________________________________________\n",
      "max_pooling2d_2 (MaxPooling2 (None, 5, 5, 64)          0         \n",
      "_________________________________________________________________\n",
      "conv2d_3 (Conv2D)            (None, 3, 3, 64)          36928     \n",
      "_________________________________________________________________\n",
      "max_pooling2d_3 (MaxPooling2 (None, 1, 1, 64)          0         \n",
      "_________________________________________________________________\n",
      "flatten_1 (Flatten)          (None, 64)                0         \n",
      "_________________________________________________________________\n",
      "dense_1 (Dense)              (None, 128)               8320      \n",
      "_________________________________________________________________\n",
      "dropout_1 (Dropout)          (None, 128)               0         \n",
      "_________________________________________________________________\n",
      "dense_2 (Dense)              (None, 24)                3096      \n",
      "=================================================================\n",
      "Total params: 85,912\n",
      "Trainable params: 85,912\n",
      "Non-trainable params: 0\n",
      "_________________________________________________________________\n"
     ]
    }
   ],
   "source": [
    "model.summary() "
   ]
  },
  {
   "cell_type": "markdown",
   "metadata": {},
   "source": [
    "# Load Test Data"
   ]
  },
  {
   "cell_type": "code",
   "execution_count": 28,
   "metadata": {},
   "outputs": [],
   "source": [
    "test_data = pd.read_csv(\"sign_mnist_test.csv\")"
   ]
  },
  {
   "cell_type": "markdown",
   "metadata": {},
   "source": [
    "#### Here is the same issue with the missing '9' in our test data that we will need to fix"
   ]
  },
  {
   "cell_type": "code",
   "execution_count": 29,
   "metadata": {},
   "outputs": [
    {
     "data": {
      "text/plain": [
       "array([ 6,  5, 10,  0,  3, 21, 14,  7,  8, 12,  4, 22,  2, 15,  1, 13, 19,\n",
       "       18, 23, 17, 20, 16, 11, 24])"
      ]
     },
     "execution_count": 29,
     "metadata": {},
     "output_type": "execute_result"
    }
   ],
   "source": [
    "test_data.head()\n",
    "test_data.label.unique()\n"
   ]
  },
  {
   "cell_type": "code",
   "execution_count": 30,
   "metadata": {},
   "outputs": [
    {
     "data": {
      "text/plain": [
       "(7172, 785)"
      ]
     },
     "execution_count": 30,
     "metadata": {},
     "output_type": "execute_result"
    }
   ],
   "source": [
    "test_data.shape"
   ]
  },
  {
   "cell_type": "markdown",
   "metadata": {},
   "source": [
    "### Move any label that is 10 or higher down"
   ]
  },
  {
   "cell_type": "code",
   "execution_count": 31,
   "metadata": {},
   "outputs": [],
   "source": [
    "for i in range(0, 7171):\n",
    "    if test_data['label'][i] >= 10:\n",
    "        test_data['label'][i] -= 1\n",
    "        "
   ]
  },
  {
   "cell_type": "markdown",
   "metadata": {},
   "source": [
    "### problem solved"
   ]
  },
  {
   "cell_type": "code",
   "execution_count": 156,
   "metadata": {},
   "outputs": [
    {
     "data": {
      "text/plain": [
       "array([  14,   27,   43,   48,   58,   61,   68,   88,   89,   93,  107,\n",
       "        115,  123,  133,  139,  141,  151,  154,  161,  177,  191,  193,\n",
       "        195,  201,  202,  207,  215,  217,  219,  224,  236,  248,  249,\n",
       "        267,  273,  281,  288,  292,  296,  298,  299,  313,  318,  320,\n",
       "        326,  328,  335,  343,  346,  365,  374,  376,  379,  389,  392,\n",
       "        398,  411,  417,  422,  423,  425,  439,  442,  444,  452,  454,\n",
       "        455,  456,  457,  460,  462,  489,  510,  516,  528,  529,  532,\n",
       "        544,  552,  553,  564,  568,  575,  583,  585,  591,  613,  627,\n",
       "        634,  637,  638,  643,  645,  662,  668,  674,  675,  676,  686,\n",
       "        688,  691,  696,  706,  708,  717,  727,  735,  739,  742,  755,\n",
       "        757,  775,  788,  790,  817,  824,  835,  837,  846,  851,  861,\n",
       "        877,  887,  922,  931,  937,  944,  948,  949,  960,  986,  989,\n",
       "        998,  999, 1005, 1013, 1018, 1036, 1038, 1040, 1042, 1050, 1052,\n",
       "       1053, 1071, 1082, 1091, 1092, 1110, 1111, 1136, 1143, 1147, 1152,\n",
       "       1168, 1175, 1178, 1196, 1197, 1207, 1221, 1235, 1238, 1246, 1252,\n",
       "       1255, 1264, 1265, 1281, 1291, 1294, 1296, 1338, 1339, 1344, 1351,\n",
       "       1353, 1354, 1355, 1361, 1363, 1366, 1369, 1370, 1388, 1390, 1401,\n",
       "       1402, 1418, 1422, 1429, 1436, 1437, 1439, 1448, 1456, 1459, 1465,\n",
       "       1483, 1485, 1509, 1515, 1523, 1531, 1545, 1554, 1574, 1577, 1583,\n",
       "       1584, 1586, 1591, 1597, 1603, 1618, 1626, 1633, 1649, 1668, 1672,\n",
       "       1676, 1693, 1694, 1713, 1720, 1722, 1723, 1734, 1736, 1742, 1744,\n",
       "       1746, 1759, 1766, 1776, 1798, 1812, 1824, 1828, 1832, 1842, 1847,\n",
       "       1858, 1869, 1882, 1885, 1901, 1914, 1915, 1921, 1938, 1944, 1957,\n",
       "       1993, 1998, 2012, 2014, 2028, 2041, 2044, 2048, 2049, 2069, 2077,\n",
       "       2078, 2079, 2080, 2098, 2116, 2133, 2137, 2139, 2141, 2159, 2164,\n",
       "       2167, 2168, 2182, 2198, 2201, 2207, 2209, 2216, 2223, 2239, 2249,\n",
       "       2265, 2269, 2277, 2278, 2282, 2285, 2304, 2305, 2308, 2316, 2327,\n",
       "       2332, 2335, 2336, 2346, 2347, 2351, 2368, 2370, 2373, 2374, 2379,\n",
       "       2384, 2386, 2388, 2395, 2396, 2401, 2402, 2408, 2415, 2425, 2429,\n",
       "       2444, 2446, 2450, 2453, 2471, 2478, 2488, 2492, 2503, 2518, 2529,\n",
       "       2536, 2556, 2559, 2561, 2562, 2566, 2573, 2576, 2587, 2589, 2594,\n",
       "       2596, 2604, 2626, 2630, 2633, 2634, 2637, 2638, 2641, 2644, 2652,\n",
       "       2669, 2671, 2675, 2686, 2689, 2693, 2724, 2734, 2746, 2758, 2764,\n",
       "       2765, 2772, 2782, 2785, 2791, 2796, 2816, 2819, 2830, 2848, 2852,\n",
       "       2860, 2864, 2876, 2882, 2883, 2888, 2898, 2906, 2914, 2917, 2926,\n",
       "       2947, 2949, 2950, 2952, 2966, 2970, 2979, 2982, 2989, 2994, 3004,\n",
       "       3005, 3015, 3028, 3029, 3061, 3062, 3063, 3065, 3068, 3075, 3086,\n",
       "       3093, 3101, 3108, 3113, 3124, 3126, 3127, 3130, 3149, 3161, 3166,\n",
       "       3172, 3177, 3189, 3192, 3205, 3208, 3214, 3223, 3228, 3242, 3244,\n",
       "       3248, 3249, 3260, 3274, 3277, 3283, 3293, 3308, 3311, 3327, 3331,\n",
       "       3340, 3347, 3360, 3365, 3384, 3388, 3396, 3400, 3401, 3414, 3434,\n",
       "       3436, 3440, 3448, 3449, 3461, 3470, 3475, 3492, 3496, 3497, 3514,\n",
       "       3520, 3521, 3523, 3537, 3550, 3561, 3571, 3586, 3590, 3602, 3621,\n",
       "       3639, 3646, 3659, 3662, 3665, 3674, 3676, 3679, 3680, 3694, 3700,\n",
       "       3715, 3732, 3740, 3743, 3753, 3775, 3776, 3780, 3782, 3784, 3791,\n",
       "       3804, 3819, 3831, 3860, 3864, 3874, 3902, 3917, 3927, 3949, 3950,\n",
       "       3960, 3968, 3975, 3978, 3982, 3986, 3993, 4000, 4001, 4002, 4003,\n",
       "       4007, 4008, 4009, 4010, 4011, 4013, 4015, 4022, 4027, 4037, 4040,\n",
       "       4046, 4053, 4064, 4068, 4072, 4079, 4089, 4103, 4112, 4113, 4115,\n",
       "       4129, 4139, 4157, 4162, 4164, 4167, 4174, 4175, 4184, 4186, 4187,\n",
       "       4194, 4205, 4211, 4214, 4226, 4228, 4230, 4233, 4239, 4244, 4245,\n",
       "       4257, 4258, 4260, 4267, 4269, 4270, 4272, 4279, 4286, 4301, 4303,\n",
       "       4308, 4314, 4318, 4322, 4329, 4339, 4360, 4364, 4365, 4373, 4380,\n",
       "       4388, 4400, 4402, 4418, 4419, 4425, 4431, 4453, 4456, 4471, 4484,\n",
       "       4485, 4488, 4492, 4502, 4504, 4518, 4525, 4529, 4536, 4540, 4551,\n",
       "       4568, 4575, 4585, 4590, 4613, 4629, 4634, 4635, 4637, 4647, 4650,\n",
       "       4655, 4657, 4667, 4672, 4675, 4683, 4684, 4685, 4686, 4687, 4688,\n",
       "       4689, 4696, 4706, 4736, 4740, 4746, 4748, 4749, 4757, 4758, 4772,\n",
       "       4773, 4793, 4795, 4802, 4808, 4816, 4822, 4823, 4825, 4828, 4831,\n",
       "       4832, 4833, 4841, 4848, 4862, 4867, 4875, 4876, 4897, 4900, 4904,\n",
       "       4913, 4914, 4916, 4928, 4938, 4940, 4945, 4955, 4962, 4971, 4974,\n",
       "       4976, 4997, 5001, 5007, 5027, 5031, 5049, 5061, 5067, 5071, 5088,\n",
       "       5102, 5103, 5111, 5118, 5120, 5127, 5129, 5130, 5132, 5136, 5139,\n",
       "       5150, 5158, 5162, 5168, 5170, 5172, 5173, 5177, 5179, 5196, 5202,\n",
       "       5212, 5233, 5238, 5242, 5245, 5247, 5257, 5263, 5268, 5270, 5291,\n",
       "       5313, 5319, 5323, 5334, 5345, 5359, 5381, 5382, 5387, 5395, 5405,\n",
       "       5407, 5411, 5425, 5434, 5437, 5441, 5446, 5450, 5461, 5468, 5471,\n",
       "       5490, 5502, 5506, 5509, 5511, 5512, 5518, 5520, 5522, 5535, 5536,\n",
       "       5538, 5546, 5567, 5578, 5586, 5593, 5609, 5612, 5615, 5619, 5627,\n",
       "       5633, 5634, 5640, 5644, 5649, 5650, 5661, 5662, 5706, 5711, 5719,\n",
       "       5742, 5764, 5772, 5783, 5792, 5796, 5799, 5810, 5824, 5842, 5843,\n",
       "       5856, 5861, 5871, 5886, 5890, 5891, 5892, 5895, 5901, 5903, 5905,\n",
       "       5923, 5930, 5934, 5945, 5947, 5965, 5970, 5974, 5979, 5999, 6001,\n",
       "       6011, 6032, 6035, 6077, 6082, 6085, 6088, 6089, 6102, 6115, 6123,\n",
       "       6125, 6141, 6143, 6144, 6157, 6158, 6163, 6168, 6177, 6181, 6189,\n",
       "       6199, 6209, 6214, 6216, 6232, 6237, 6246, 6257, 6260, 6265, 6277,\n",
       "       6279, 6293, 6296, 6314, 6329, 6336, 6349, 6368, 6374, 6375, 6385,\n",
       "       6387, 6401, 6407, 6414, 6420, 6435, 6441, 6456, 6477, 6478, 6488,\n",
       "       6494, 6495, 6498, 6499, 6500, 6508, 6513, 6522, 6532, 6533, 6557,\n",
       "       6572, 6577, 6580, 6582, 6590, 6593, 6605, 6616, 6638, 6640, 6646,\n",
       "       6652, 6657, 6661, 6677, 6681, 6692, 6698, 6700, 6701, 6707, 6710,\n",
       "       6714, 6723, 6732, 6738, 6744, 6745, 6765, 6767, 6769, 6772, 6776,\n",
       "       6782, 6791, 6792, 6804, 6833, 6844, 6852, 6856, 6857, 6868, 6893,\n",
       "       6905, 6921, 6928, 6934, 6939, 6941, 6951, 6952, 6957, 6958, 6962,\n",
       "       6983, 6991, 6994, 7006, 7010, 7023, 7025, 7030, 7045, 7048, 7050,\n",
       "       7051, 7055, 7062, 7089, 7092, 7097, 7098, 7108, 7116, 7118, 7119,\n",
       "       7121, 7124, 7127, 7129, 7138, 7139, 7167])"
      ]
     },
     "execution_count": 156,
     "metadata": {},
     "output_type": "execute_result"
    }
   ],
   "source": [
    "incorrect"
   ]
  },
  {
   "cell_type": "code",
   "execution_count": 32,
   "metadata": {},
   "outputs": [
    {
     "data": {
      "text/plain": [
       "array([ 6,  5,  9,  0,  3, 20, 13,  7,  8, 11,  4, 21,  2, 14,  1, 12, 18,\n",
       "       17, 22, 16, 19, 15, 10, 23])"
      ]
     },
     "execution_count": 32,
     "metadata": {},
     "output_type": "execute_result"
    }
   ],
   "source": [
    "test_data.label.unique()\n"
   ]
  },
  {
   "cell_type": "markdown",
   "metadata": {},
   "source": [
    "## rinse repeat our data cleaning from before to prepare for testing"
   ]
  },
  {
   "cell_type": "code",
   "execution_count": 33,
   "metadata": {},
   "outputs": [],
   "source": [
    "y_true = test_data.iloc[:, 0]"
   ]
  },
  {
   "cell_type": "code",
   "execution_count": 34,
   "metadata": {},
   "outputs": [],
   "source": [
    "test_labels = test_data['label']"
   ]
  },
  {
   "cell_type": "code",
   "execution_count": 35,
   "metadata": {},
   "outputs": [],
   "source": [
    "test_labels = label_binrizer.fit_transform(test_labels)"
   ]
  },
  {
   "cell_type": "code",
   "execution_count": 36,
   "metadata": {},
   "outputs": [],
   "source": [
    "test_data.drop(\"label\" , axis=1 , inplace=True)"
   ]
  },
  {
   "cell_type": "code",
   "execution_count": 37,
   "metadata": {},
   "outputs": [
    {
     "data": {
      "text/plain": [
       "array([[149, 149, 150, ..., 112, 120, 107],\n",
       "       [126, 128, 131, ..., 184, 182, 180],\n",
       "       [ 85,  88,  92, ..., 225, 224, 222],\n",
       "       ...,\n",
       "       [190, 191, 190, ..., 211, 209, 208],\n",
       "       [201, 205, 208, ...,  67,  70,  63],\n",
       "       [173, 174, 173, ..., 195, 193, 192]])"
      ]
     },
     "execution_count": 37,
     "metadata": {},
     "output_type": "execute_result"
    }
   ],
   "source": [
    "test_image_data = test_data.values\n",
    "test_image_data"
   ]
  },
  {
   "cell_type": "code",
   "execution_count": null,
   "metadata": {},
   "outputs": [],
   "source": []
  },
  {
   "cell_type": "markdown",
   "metadata": {},
   "source": [
    "### our images as expected"
   ]
  },
  {
   "cell_type": "code",
   "execution_count": 38,
   "metadata": {},
   "outputs": [
    {
     "data": {
      "text/plain": [
       "<matplotlib.image.AxesImage at 0x1a8a3f6cd0>"
      ]
     },
     "execution_count": 38,
     "metadata": {},
     "output_type": "execute_result"
    },
    {
     "data": {
      "image/png": "[encoded data removed]",
      "text/plain": [
       "<Figure size 432x288 with 1 Axes>"
      ]
     },
     "metadata": {
      "needs_background": "light"
     },
     "output_type": "display_data"
    }
   ],
   "source": [
    "plt.imshow(test_image_data[1229].reshape(28,28))"
   ]
  },
  {
   "cell_type": "code",
   "execution_count": 39,
   "metadata": {},
   "outputs": [],
   "source": [
    "#flatten_images = np.array([i.flatten() for i in images])"
   ]
  },
  {
   "cell_type": "code",
   "execution_count": 40,
   "metadata": {},
   "outputs": [],
   "source": [
    "#flatten_images"
   ]
  },
  {
   "cell_type": "markdown",
   "metadata": {},
   "source": [
    "### Reshape images into 28 x 28 and make 'target_names' so we can use the classes in a more visual representation of our validation later"
   ]
  },
  {
   "cell_type": "code",
   "execution_count": 41,
   "metadata": {},
   "outputs": [],
   "source": [
    "test_images = np.array([test_image_data[i].reshape(28,28) for i in range(test_image_data.shape[0])])"
   ]
  },
  {
   "cell_type": "code",
   "execution_count": 42,
   "metadata": {},
   "outputs": [],
   "source": [
    "test_images = test_images.reshape(test_images.shape[0], 28, 28, 1)"
   ]
  },
  {
   "cell_type": "code",
   "execution_count": 43,
   "metadata": {},
   "outputs": [
    {
     "data": {
      "text/plain": [
       "['Class 0',\n",
       " 'Class 1',\n",
       " 'Class 2',\n",
       " 'Class 3',\n",
       " 'Class 4',\n",
       " 'Class 5',\n",
       " 'Class 6',\n",
       " 'Class 7',\n",
       " 'Class 8',\n",
       " 'Class 9',\n",
       " 'Class 10',\n",
       " 'Class 11',\n",
       " 'Class 12',\n",
       " 'Class 13',\n",
       " 'Class 14',\n",
       " 'Class 15',\n",
       " 'Class 16',\n",
       " 'Class 17',\n",
       " 'Class 18',\n",
       " 'Class 19',\n",
       " 'Class 20',\n",
       " 'Class 21',\n",
       " 'Class 22',\n",
       " 'Class 23']"
      ]
     },
     "execution_count": 43,
     "metadata": {},
     "output_type": "execute_result"
    }
   ],
   "source": [
    "target_names = [\"Class {}\".format(i) for i in range(num_classes)]\n",
    "target_names"
   ]
  },
  {
   "cell_type": "markdown",
   "metadata": {},
   "source": [
    "### send images to the model to predict against our new test data"
   ]
  },
  {
   "cell_type": "code",
   "execution_count": 44,
   "metadata": {},
   "outputs": [],
   "source": [
    "flatten_images = np.array([i.flatten() for i in test_images])"
   ]
  },
  {
   "cell_type": "code",
   "execution_count": 45,
   "metadata": {},
   "outputs": [],
   "source": [
    "y_pred = model.predict(test_images)\n"
   ]
  },
  {
   "cell_type": "markdown",
   "metadata": {},
   "source": [
    "### our overall accuracy "
   ]
  },
  {
   "cell_type": "code",
   "execution_count": 108,
   "metadata": {},
   "outputs": [
    {
     "data": {
      "text/plain": [
       "0.867122141662019"
      ]
     },
     "execution_count": 108,
     "metadata": {},
     "output_type": "execute_result"
    }
   ],
   "source": [
    "accuracy_score(test_labels, y_pred.round())"
   ]
  },
  {
   "cell_type": "markdown",
   "metadata": {},
   "source": [
    "### make a seperate dataframe that is made up of our predictions made on the test images"
   ]
  },
  {
   "cell_type": "code",
   "execution_count": 47,
   "metadata": {},
   "outputs": [],
   "source": [
    "test_pred = pd.DataFrame(model.predict(test_images))"
   ]
  },
  {
   "cell_type": "code",
   "execution_count": 48,
   "metadata": {},
   "outputs": [],
   "source": [
    "predicted_classes = model.predict_classes(test_images)"
   ]
  },
  {
   "cell_type": "markdown",
   "metadata": {},
   "source": [
    "### Now we can get our hands on the correct and incorrect answers and seperate them"
   ]
  },
  {
   "cell_type": "code",
   "execution_count": 91,
   "metadata": {},
   "outputs": [
    {
     "name": "stderr",
     "output_type": "stream",
     "text": [
      "/Users/mark/opt/anaconda3/lib/python3.7/site-packages/numpy/core/fromnumeric.py:61: FutureWarning: Series.nonzero() is deprecated and will be removed in a future version.Use Series.to_numpy().nonzero() instead\n",
      "  return bound(*args, **kwds)\n"
     ]
    }
   ],
   "source": [
    "correct = np.nonzero(predicted_classes==y_true)[0]\n",
    "incorrect = np.nonzero(predicted_classes!=y_true)[0]"
   ]
  },
  {
   "cell_type": "code",
   "execution_count": 50,
   "metadata": {},
   "outputs": [],
   "source": [
    "target_names = [\"Class {}\".format(i) for i in range(num_classes)]"
   ]
  },
  {
   "cell_type": "code",
   "execution_count": 51,
   "metadata": {},
   "outputs": [
    {
     "name": "stdout",
     "output_type": "stream",
     "text": [
      "              precision    recall  f1-score   support\n",
      "\n",
      "     Class 0       0.82      1.00      0.90       331\n",
      "     Class 1       1.00      0.96      0.98       432\n",
      "     Class 2       0.94      0.93      0.93       310\n",
      "     Class 3       1.00      0.81      0.90       245\n",
      "     Class 4       0.92      1.00      0.96       498\n",
      "     Class 5       1.00      1.00      1.00       247\n",
      "     Class 6       0.75      0.76      0.76       348\n",
      "     Class 7       0.89      0.86      0.88       436\n",
      "     Class 8       0.87      0.90      0.88       288\n",
      "     Class 9       1.00      0.80      0.89       331\n",
      "    Class 10       0.80      0.99      0.88       209\n",
      "    Class 11       0.86      0.95      0.90       394\n",
      "    Class 12       1.00      0.75      0.86       291\n",
      "    Class 13       0.91      0.83      0.87       246\n",
      "    Class 14       1.00      0.63      0.77       347\n",
      "    Class 15       0.67      0.99      0.80       164\n",
      "    Class 16       0.43      0.63      0.51       144\n",
      "    Class 17       0.80      0.90      0.85       246\n",
      "    Class 18       0.77      0.73      0.75       248\n",
      "    Class 19       0.72      1.00      0.84       266\n",
      "    Class 20       0.86      0.67      0.76       346\n",
      "    Class 21       1.00      0.97      0.98       206\n",
      "    Class 22       0.82      0.88      0.85       267\n",
      "    Class 23       0.96      0.78      0.86       332\n",
      "\n",
      "    accuracy                           0.87      7172\n",
      "   macro avg       0.87      0.86      0.86      7172\n",
      "weighted avg       0.88      0.87      0.87      7172\n",
      "\n"
     ]
    }
   ],
   "source": [
    "print(classification_report(y_true, predicted_classes, target_names=target_names))"
   ]
  },
  {
   "cell_type": "code",
   "execution_count": 101,
   "metadata": {},
   "outputs": [
    {
     "data": {
      "text/plain": [
       "6219"
      ]
     },
     "execution_count": 101,
     "metadata": {},
     "output_type": "execute_result"
    }
   ],
   "source": [
    "len(list(correct))"
   ]
  },
  {
   "cell_type": "code",
   "execution_count": 99,
   "metadata": {},
   "outputs": [
    {
     "data": {
      "text/plain": [
       "953"
      ]
     },
     "execution_count": 99,
     "metadata": {},
     "output_type": "execute_result"
    }
   ],
   "source": [
    "len(list(incorrect))"
   ]
  },
  {
   "cell_type": "markdown",
   "metadata": {},
   "source": [
    "### A more visual representation of what we know already"
   ]
  },
  {
   "cell_type": "code",
   "execution_count": 54,
   "metadata": {},
   "outputs": [
    {
     "data": {
      "image/png": "[encoded data removed]",
      "text/plain": [
       "<Figure size 432x288 with 9 Axes>"
      ]
     },
     "metadata": {
      "needs_background": "light"
     },
     "output_type": "display_data"
    }
   ],
   "source": [
    "for i, correct in enumerate(correct[:9]):\n",
    "    plt.subplot(3,3,i+1)\n",
    "    plt.imshow(test_images[correct].reshape(28,28), cmap='gray', interpolation='none')\n",
    "    plt.title(\"Predicted {}, Class {}\".format(predicted_classes[correct], y_true[correct]))\n",
    "    plt.tight_layout()"
   ]
  },
  {
   "cell_type": "code",
   "execution_count": 55,
   "metadata": {},
   "outputs": [
    {
     "data": {
      "image/png": "[encoded data removed]",
      "text/plain": [
       "<Figure size 432x288 with 9 Axes>"
      ]
     },
     "metadata": {
      "needs_background": "light"
     },
     "output_type": "display_data"
    }
   ],
   "source": [
    "for i, incorrect in enumerate(incorrect[:9]):\n",
    "    plt.subplot(3,3,i+1)\n",
    "    plt.imshow(test_images[incorrect].reshape(28,28), cmap='gray', interpolation='none')\n",
    "    plt.title(\"Predicted {}, Class {}\".format(predicted_classes[incorrect], y_true[incorrect]))\n",
    "    plt.tight_layout()"
   ]
  },
  {
   "cell_type": "code",
   "execution_count": 56,
   "metadata": {},
   "outputs": [],
   "source": [
    "#flatten_images = np.array([i.flatten() for i in images])\n",
    "#test_images = np.array([test_image_data[i].reshape(28,28) for i in range(test_image_data.shape[0])])"
   ]
  },
  {
   "cell_type": "code",
   "execution_count": 57,
   "metadata": {},
   "outputs": [],
   "source": [
    "#img = imread('q.jpg')\n",
    "#fname = 'q.jpg'\n",
    "#image = Image.open(fname).convert(\"L\")\n",
    "#arr = np.asarray(image)\n",
    "#plt.imshow(arr, cmap='gray', vmin=0, vmax=255)\n",
    "#plt.show()"
   ]
  },
  {
   "cell_type": "code",
   "execution_count": 58,
   "metadata": {},
   "outputs": [],
   "source": [
    "#arr = arr / 255"
   ]
  },
  {
   "cell_type": "code",
   "execution_count": 59,
   "metadata": {},
   "outputs": [],
   "source": [
    "#arr"
   ]
  },
  {
   "cell_type": "code",
   "execution_count": null,
   "metadata": {},
   "outputs": [],
   "source": []
  },
  {
   "cell_type": "code",
   "execution_count": null,
   "metadata": {},
   "outputs": [],
   "source": []
  },
  {
   "cell_type": "code",
   "execution_count": null,
   "metadata": {},
   "outputs": [],
   "source": []
  },
  {
   "cell_type": "code",
   "execution_count": 60,
   "metadata": {},
   "outputs": [],
   "source": [
    "#predicted_img = model.predict_classes(flatten_img)"
   ]
  },
  {
   "cell_type": "markdown",
   "metadata": {},
   "source": [
    "### User input from images off of the internet!"
   ]
  },
  {
   "cell_type": "code",
   "execution_count": 153,
   "metadata": {},
   "outputs": [],
   "source": [
    "img = image.load_img('v.jpg', color_mode = \"grayscale\", target_size=(28,28))\n",
    "x = image.img_to_array(img)\n",
    "x = np.expand_dims(x, axis=0)\n",
    "\n",
    "images = np.vstack([x])\n",
    "classes = model.predict(images)\n",
    "\n"
   ]
  },
  {
   "cell_type": "code",
   "execution_count": 154,
   "metadata": {},
   "outputs": [
    {
     "name": "stdout",
     "output_type": "stream",
     "text": [
      "[[0. 0. 0. 0. 0. 0. 0. 0. 0. 0. 0. 0. 0. 0. 0. 0. 0. 0. 0. 0. 1. 0. 0. 0.]]\n"
     ]
    }
   ],
   "source": [
    "\n",
    "print(classes)"
   ]
  },
  {
   "cell_type": "code",
   "execution_count": null,
   "metadata": {},
   "outputs": [],
   "source": []
  }
 ],
 "metadata": {
  "kernelspec": {
   "display_name": "Python 3",
   "language": "python",
   "name": "python3"
  },
  "language_info": {
   "codemirror_mode": {
    "name": "ipython",
    "version": 3
   },
   "file_extension": ".py",
   "mimetype": "text/x-python",
   "name": "python",
   "nbconvert_exporter": "python",
   "pygments_lexer": "ipython3",
   "version": "3.7.4"
  }
 },
 "nbformat": 4,
 "nbformat_minor": 4
}
